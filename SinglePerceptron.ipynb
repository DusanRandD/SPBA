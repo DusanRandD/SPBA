{
 "cells": [
  {
   "cell_type": "code",
   "execution_count": 1,
   "metadata": {},
   "outputs": [],
   "source": [
    "#*Project: \"Single perceptron backpropogation algorithm\"\n",
    "#Created by: Dusan Radivojevic, 01.2020.\n",
    "import numpy as np\n",
    "import time\n",
    "from tensorflow import keras\n",
    "from tensorflow.keras.models import Sequential\n",
    "from tensorflow.keras.layers import Dense, Activation, Flatten, Dropout\n",
    "import matplotlib.pyplot as plt"
   ]
  },
  {
   "cell_type": "code",
   "execution_count": 2,
   "metadata": {},
   "outputs": [],
   "source": [
    "#Seting arrays for training and testing\n",
    "x_train=[]\n",
    "y_train=[]\n",
    "x_test=[[0,0],[0,1],[1,0],[1,1]]\n",
    "for i in range(25000):\n",
    "    x_train.append([0,0])\n",
    "    y_train.append([0])\n",
    "    x_train.append([0,1])\n",
    "    y_train.append([1])\n",
    "    x_train.append([1,0])\n",
    "    y_train.append([1])\n",
    "    x_train.append([1,1])\n",
    "    y_train.append([1])"
   ]
  },
  {
   "cell_type": "code",
   "execution_count": 3,
   "metadata": {},
   "outputs": [],
   "source": [
    "#Convert arrays to numpy arrays\n",
    "x_train=np.array(x_train)\n",
    "y_train=np.array(y_train)\n",
    "x_test=np.array(x_test)"
   ]
  },
  {
   "cell_type": "code",
   "execution_count": 4,
   "metadata": {},
   "outputs": [],
   "source": [
    "#Definig model of neural network with 1 neuron, 2 inputs, 1 output with Sigmoid activation, and weights and bias is set to 0\n",
    "model = Sequential([\n",
    "    Dense(1, kernel_initializer='zeros', input_shape=(2,)),\n",
    "    Activation('sigmoid'),\n",
    "])"
   ]
  },
  {
   "cell_type": "code",
   "execution_count": 5,
   "metadata": {
    "scrolled": false
   },
   "outputs": [
    {
     "name": "stdout",
     "output_type": "stream",
     "text": [
      "Model: \"sequential\"\n",
      "_________________________________________________________________\n",
      "Layer (type)                 Output Shape              Param #   \n",
      "=================================================================\n",
      "dense (Dense)                (None, 1)                 3         \n",
      "_________________________________________________________________\n",
      "activation (Activation)      (None, 1)                 0         \n",
      "=================================================================\n",
      "Total params: 3\n",
      "Trainable params: 3\n",
      "Non-trainable params: 0\n",
      "_________________________________________________________________\n"
     ]
    }
   ],
   "source": [
    "#show model\n",
    "model.summary()"
   ]
  },
  {
   "cell_type": "code",
   "execution_count": 6,
   "metadata": {
    "scrolled": true
   },
   "outputs": [],
   "source": [
    "#Compiling model\n",
    "keras.optimizers.SGD(learning_rate=0.01, momentum=0.0, nesterov=False)\n",
    "model.compile(loss='mean_squared_error',\n",
    "optimizer=\"sgd\",\n",
    "metrics=['accuracy'])"
   ]
  },
  {
   "cell_type": "code",
   "execution_count": 7,
   "metadata": {},
   "outputs": [
    {
     "name": "stdout",
     "output_type": "stream",
     "text": [
      "Train on 100000 samples\n",
      "Epoch 1/10\n",
      "100000/100000 [==============================] - 23s 227us/sample - loss: 0.1240 - accuracy: 0.7608\n",
      "Epoch 2/10\n",
      "100000/100000 [==============================] - 19s 188us/sample - loss: 0.0711 - accuracy: 1.0000\n",
      "Epoch 3/10\n",
      "100000/100000 [==============================] - 18s 183us/sample - loss: 0.0478 - accuracy: 1.0000\n",
      "Epoch 4/10\n",
      "100000/100000 [==============================] - 19s 191us/sample - loss: 0.0349 - accuracy: 1.0000\n",
      "Epoch 5/10\n",
      "100000/100000 [==============================] - 23s 231us/sample - loss: 0.0269 - accuracy: 1.0000\n",
      "Epoch 6/10\n",
      "100000/100000 [==============================] - 21s 211us/sample - loss: 0.0217 - accuracy: 1.0000\n",
      "Epoch 7/10\n",
      "100000/100000 [==============================] - 21s 214us/sample - loss: 0.0180 - accuracy: 1.0000\n",
      "Epoch 8/10\n",
      "100000/100000 [==============================] - 21s 214us/sample - loss: 0.0153 - accuracy: 1.0000\n",
      "Epoch 9/10\n",
      "100000/100000 [==============================] - 22s 220us/sample - loss: 0.0133 - accuracy: 1.0000\n",
      "Epoch 10/10\n",
      "100000/100000 [==============================] - 20s 197us/sample - loss: 0.0117 - accuracy: 1.0000\n"
     ]
    }
   ],
   "source": [
    "#Trainig the network and save in history\n",
    "history=model.fit(x_train, y_train, epochs=10)"
   ]
  },
  {
   "cell_type": "code",
   "execution_count": 8,
   "metadata": {},
   "outputs": [
    {
     "name": "stdout",
     "output_type": "stream",
     "text": [
      "[[0.15941957]\n",
      " [0.9035325 ]\n",
      " [0.9035473 ]\n",
      " [0.99784315]]\n"
     ]
    }
   ],
   "source": [
    "#Testing the network with x_test array\n",
    "yp=model.predict(x_test)\n",
    "print(yp)"
   ]
  },
  {
   "cell_type": "code",
   "execution_count": 9,
   "metadata": {},
   "outputs": [
    {
     "name": "stdout",
     "output_type": "stream",
     "text": [
      "[[3.8998282]\n",
      " [3.8996596]] [-1.6625531]\n"
     ]
    }
   ],
   "source": [
    "#Grabbing weights and bias\n",
    "weights,biases= model.layers[0].get_weights()\n",
    "print(weights,biases)"
   ]
  },
  {
   "cell_type": "code",
   "execution_count": 16,
   "metadata": {},
   "outputs": [
    {
     "data": {
      "image/png": "[encoded data removed]",
      "text/plain": [
       "<Figure size 432x288 with 1 Axes>"
      ]
     },
     "metadata": {
      "needs_background": "light"
     },
     "output_type": "display_data"
    }
   ],
   "source": [
    "#plot cost diagram\n",
    "plt.plot(history.history['loss'])\n",
    "plt.title('cost diagram')\n",
    "plt.ylabel('loss')\n",
    "plt.xlabel('epoch')\n",
    "plt.legend(['training'], loc='upper right')\n",
    "plt.show()"
   ]
  },
  {
   "cell_type": "code",
   "execution_count": null,
   "metadata": {},
   "outputs": [],
   "source": []
  }
 ],
 "metadata": {
  "kernelspec": {
   "display_name": "Python 3",
   "language": "python",
   "name": "python3"
  },
  "language_info": {
   "codemirror_mode": {
    "name": "ipython",
    "version": 3
   },
   "file_extension": ".py",
   "mimetype": "text/x-python",
   "name": "python",
   "nbconvert_exporter": "python",
   "pygments_lexer": "ipython3",
   "version": "3.7.4"
  }
 },
 "nbformat": 4,
 "nbformat_minor": 2
}
